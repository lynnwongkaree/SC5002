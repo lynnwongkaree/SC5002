{
  "nbformat": 4,
  "nbformat_minor": 0,
  "metadata": {
    "colab": {
      "provenance": [],
      "include_colab_link": true
    },
    "kernelspec": {
      "name": "python3",
      "display_name": "Python 3"
    },
    "language_info": {
      "name": "python"
    }
  },
  "cells": [
    {
      "cell_type": "markdown",
      "metadata": {
        "id": "view-in-github",
        "colab_type": "text"
      },
      "source": [
        "<a href=\"https://colab.research.google.com/github/lynnwongkaree/SC5002/blob/main/Copy_of_SC5002_Lab2_Group12_Project.ipynb\" target=\"_parent\"><img src=\"https://colab.research.google.com/assets/colab-badge.svg\" alt=\"Open In Colab\"/></a>"
      ]
    },
    {
      "cell_type": "code",
      "source": [
        "pip install kaggle\n"
      ],
      "metadata": {
        "id": "AngWKkqWi9Wa"
      },
      "execution_count": null,
      "outputs": []
    },
    {
      "cell_type": "markdown",
      "source": [
        "d973f354c9d32e145c828aed00a6b1c4  haoranfei123\n"
      ],
      "metadata": {
        "id": "plwUTm-fow7F"
      }
    },
    {
      "cell_type": "code",
      "source": [
        "import os\n",
        "os.environ['KAGGLE_USERNAME'] = 'haoranfei123'\n",
        "os.environ['KAGGLE_KEY'] = 'd973f354c9d32e145c828aed00a6b1c4'"
      ],
      "metadata": {
        "id": "JztC2qe3nvMa"
      },
      "execution_count": null,
      "outputs": []
    },
    {
      "cell_type": "code",
      "source": [
        "!kaggle competitions download -c house-prices-advanced-regression-techniques\n"
      ],
      "metadata": {
        "id": "7F80PQ2yoD8N"
      },
      "execution_count": null,
      "outputs": []
    },
    {
      "cell_type": "code",
      "source": [
        "import zipfile\n",
        "\n",
        "\n",
        "with zipfile.ZipFile('house-prices-advanced-regression-techniques.zip', 'r') as zip_ref:\n",
        "    zip_ref.extractall()\n",
        "\n",
        "import pandas as pd\n",
        "\n",
        "\n",
        "df_train = pd.read_csv('train.csv')\n",
        "\n",
        "df_test = pd.read_csv('test.csv')\n",
        "\n",
        "df_sub = pd.read_csv('sample_submission.csv')\n",
        "\n",
        "\n",
        "print(\"Train head:\")\n",
        "print(df_train.head())\n",
        "print(\"\\nTest head:\")\n",
        "print(df_test.head())\n",
        "print(\"\\nSample Submission head:\")\n",
        "print(df_sub.head())\n"
      ],
      "metadata": {
        "id": "gNMEKVaxoOel"
      },
      "execution_count": null,
      "outputs": []
    },
    {
      "cell_type": "code",
      "source": [
        "import pandas as pd\n",
        "import numpy as np\n",
        "from sklearn.linear_model import RidgeCV\n",
        "from sklearn.preprocessing import StandardScaler\n",
        "from sklearn.model_selection import cross_val_score\n",
        "\n",
        "# 1️⃣ 处理 categorical 变量\n",
        "categorical_cols = df_train.select_dtypes(include=['object']).columns.tolist()\n",
        "print(\"Categorical columns:\", categorical_cols)\n",
        "\n",
        "df_train_encoded = pd.get_dummies(df_train, columns=categorical_cols, drop_first=True)\n",
        "df_test_encoded = pd.get_dummies(df_test, columns=categorical_cols, drop_first=True)\n",
        "\n",
        "# 保证 train/test 列对齐\n",
        "df_test_encoded = df_test_encoded.reindex(columns=df_train_encoded.columns.drop('SalePrice'), fill_value=0)\n",
        "\n",
        "# 2️⃣ 填充数值列缺失值\n",
        "num_cols = df_train_encoded.select_dtypes(include=['int64','float64']).columns.tolist()\n",
        "num_cols.remove('SalePrice')\n",
        "for col in num_cols:\n",
        "    median = df_train_encoded[col].median()\n",
        "    df_train_encoded[col] = df_train_encoded[col].fillna(median)\n",
        "    df_test_encoded[col] = df_test_encoded[col].fillna(median)\n",
        "\n",
        "# 3️⃣ 拆分特征和目标\n",
        "X_train = df_train_encoded.drop('SalePrice', axis=1)\n",
        "y_train = np.log1p(df_train_encoded['SalePrice'])  # log 转换\n",
        "X_test = df_test_encoded\n",
        "\n",
        "# 4️⃣ 特征标准化\n",
        "scaler = StandardScaler()\n",
        "X_train_scaled = scaler.fit_transform(X_train)\n",
        "X_test_scaled = scaler.transform(X_test)\n",
        "\n",
        "# 5️⃣ RidgeCV 自动调参\n",
        "alphas = [0.1, 0.3, 1, 3, 10, 30, 100, 300, 1000]\n",
        "ridge_cv = RidgeCV(alphas=alphas, scoring='neg_mean_squared_error', cv=5)\n",
        "ridge_cv.fit(X_train_scaled, y_train)\n",
        "print(\"Best alpha:\", ridge_cv.alpha_)\n",
        "\n",
        "# 交叉验证 RMSE\n",
        "scores = cross_val_score(ridge_cv, X_train_scaled, y_train, cv=5, scoring='neg_mean_squared_error')\n",
        "rmse_scores = np.sqrt(-scores)\n",
        "print(\"Ridge CV RMSE scores:\", rmse_scores)\n",
        "print(\"Ridge CV RMSE mean:\", rmse_scores.mean())\n",
        "\n",
        "# 6️⃣ 预测测试集\n",
        "y_pred_log = ridge_cv.predict(X_test_scaled)\n",
        "y_pred = np.expm1(y_pred_log)  # 还原原始房价\n",
        "\n",
        "# 7️⃣ 生成提交文件\n",
        "submission = pd.DataFrame({\n",
        "    'Id': df_test['Id'],\n",
        "    'SalePrice': y_pred\n",
        "})\n",
        "submission.to_csv('submission_ridge.csv', index=False)\n",
        "print(\"Submission file saved!\")\n",
        "\n",
        "\n"
      ],
      "metadata": {
        "id": "ujP_b4HLpFOi"
      },
      "execution_count": null,
      "outputs": []
    },
    {
      "cell_type": "code",
      "source": [
        "import matplotlib.pyplot as plt\n",
        "import seaborn as sns\n",
        "import pandas as pd\n",
        "import numpy as np\n",
        "\n",
        "# -----------------------------\n",
        "# 0️⃣ Prepare encoded data for correlation and model\n",
        "# -----------------------------\n",
        "# Identify categorical columns\n",
        "categorical_cols = df_train.select_dtypes(include=['object']).columns.tolist()\n",
        "\n",
        "# One-hot encode categorical columns\n",
        "df_train_encoded = pd.get_dummies(df_train, columns=categorical_cols, drop_first=True)\n",
        "df_test_encoded = pd.get_dummies(df_test, columns=categorical_cols, drop_first=True)\n",
        "\n",
        "# Align test set columns\n",
        "df_test_encoded = df_test_encoded.reindex(columns=df_train_encoded.columns.drop('SalePrice'), fill_value=0)\n",
        "\n",
        "# Fill missing numerical values with median\n",
        "num_cols = df_train_encoded.select_dtypes(include=['int64','float64']).columns.tolist()\n",
        "num_cols.remove('SalePrice')  # Don't fill target\n",
        "for col in num_cols:\n",
        "    median = df_train_encoded[col].median()\n",
        "    df_train_encoded[col] = df_train_encoded[col].fillna(median)\n",
        "    df_test_encoded[col] = df_test_encoded[col].fillna(median)\n",
        "\n",
        "X_train = df_train_encoded.drop('SalePrice', axis=1)\n",
        "y_train = df_train_encoded['SalePrice']\n",
        "X_test = df_test_encoded\n",
        "\n",
        "# -----------------------------\n",
        "# 1️⃣ Correlation Heatmap (Top 20 features)\n",
        "# -----------------------------\n",
        "corr_matrix = df_train_encoded.corr()\n",
        "top_features = corr_matrix['SalePrice'].abs().sort_values(ascending=False).head(20).index\n",
        "\n",
        "plt.figure(figsize=(12,8))\n",
        "sns.heatmap(df_train_encoded[top_features].corr(), annot=True, fmt=\".2f\", cmap='coolwarm')\n",
        "plt.title(\"Top 20 Feature Correlation Heatmap\")\n",
        "plt.show()\n",
        "\n",
        "# -----------------------------\n",
        "# 2️⃣ Training Set: True vs Predicted SalePrice\n",
        "# -----------------------------\n",
        "# y_train_pred = ridge_cv.predict(X_train)\n",
        "\n",
        "# plt.figure(figsize=(8,6))\n",
        "# sns.scatterplot(x=y_train, y=y_train_pred)\n",
        "# plt.plot([y_train.min(), y_train.max()],\n",
        "#          [y_train.min(), y_train.max()],\n",
        "#          color='red', linestyle='--')\n",
        "# plt.xlabel(\"True SalePrice\")\n",
        "# plt.ylabel(\"Predicted SalePrice\")\n",
        "# plt.title(\"Training Set: True vs Predicted SalePrice\")\n",
        "# plt.show()\n",
        "\n",
        "# -----------------------------\n",
        "# 3️⃣ Training Set: Residual Distribution\n",
        "# -----------------------------\n",
        "residuals = y_train - y_train_pred\n",
        "plt.figure(figsize=(8,6))\n",
        "sns.histplot(residuals, kde=True, bins=30, color='purple')\n",
        "plt.xlabel(\"Residuals (True - Predicted)\")\n",
        "plt.title(\"Residual Distribution (Train)\")\n",
        "plt.show()\n",
        "\n",
        "# -----------------------------\n",
        "# 4️⃣ Test Set: Predicted SalePrice Distribution\n",
        "# -----------------------------\n",
        "y_test_pred = ridge_cv.predict(X_test)\n",
        "plt.figure(figsize=(8,6))\n",
        "sns.histplot(y_test_pred, kde=True, bins=30, color='blue')\n",
        "plt.xlabel(\"Predicted SalePrice\")\n",
        "plt.title(\"Test Set: Predicted SalePrice Distribution\")\n",
        "plt.show()\n",
        "\n",
        "# -----------------------------\n",
        "# 5️⃣ Ridge Feature Coefficients (Top 20)\n",
        "# -----------------------------\n",
        "ridge_coeffs = pd.Series(ridge_cv.coef_, index=X_train.columns)\n",
        "top_coeffs = ridge_coeffs.abs().sort_values(ascending=False).head(20)\n",
        "\n",
        "plt.figure(figsize=(12,6))\n",
        "sns.barplot(x=top_coeffs.values, y=top_coeffs.index)\n",
        "plt.title(\"Top 20 Feature Coefficients (Ridge)\")\n",
        "plt.xlabel(\"Coefficient Magnitude\")\n",
        "plt.show()\n",
        "\n",
        "\n"
      ],
      "metadata": {
        "id": "nF5BwjB0rebq"
      },
      "execution_count": null,
      "outputs": []
    }
  ]
}